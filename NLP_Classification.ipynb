{
  "nbformat": 4,
  "nbformat_minor": 0,
  "metadata": {
    "colab": {
      "name": "NLP_Classification.ipynb",
      "provenance": [],
      "collapsed_sections": [],
      "authorship_tag": "ABX9TyNKreGAqOFPDYc7dxHy4YNi",
      "include_colab_link": true
    },
    "kernelspec": {
      "name": "python3",
      "display_name": "Python 3"
    },
    "language_info": {
      "name": "python"
    }
  },
  "cells": [
    {
      "cell_type": "markdown",
      "metadata": {
        "id": "view-in-github",
        "colab_type": "text"
      },
      "source": [
        "<a href=\"https://colab.research.google.com/github/VanshikaNehra23/NLP_Classification/blob/main/NLP_Classification.ipynb\" target=\"_parent\"><img src=\"https://colab.research.google.com/assets/colab-badge.svg\" alt=\"Open In Colab\"/></a>"
      ]
    },
    {
      "cell_type": "code",
      "metadata": {
        "colab": {
          "base_uri": "https://localhost:8080/"
        },
        "id": "6wkRLtD2ckMa",
        "outputId": "a510f556-6514-4fab-f59f-da22a4d375ae"
      },
      "source": [
        "from google.colab import drive\n",
        "drive.mount('/content/drive')"
      ],
      "execution_count": 1,
      "outputs": [
        {
          "output_type": "stream",
          "text": [
            "Mounted at /content/drive\n"
          ],
          "name": "stdout"
        }
      ]
    },
    {
      "cell_type": "code",
      "metadata": {
        "id": "0q-ieWFjckMc"
      },
      "source": [
        "import pandas as pd\n",
        "import numpy as np\n",
        "import matplotlib.pyplot as plt"
      ],
      "execution_count": 2,
      "outputs": []
    },
    {
      "cell_type": "code",
      "metadata": {
        "id": "lTEHUfUibt2g"
      },
      "source": [
        "df=pd.read_csv('/content/drive/MyDrive/root2aiData.csv')"
      ],
      "execution_count": 3,
      "outputs": []
    },
    {
      "cell_type": "code",
      "metadata": {
        "colab": {
          "base_uri": "https://localhost:8080/",
          "height": 202
        },
        "id": "B0uT155Wb-eW",
        "outputId": "13f7a8fb-6d55-45a3-f045-833f963d9015"
      },
      "source": [
        "df.head()"
      ],
      "execution_count": 4,
      "outputs": [
        {
          "output_type": "execute_result",
          "data": {
            "text/html": [
              "<div>\n",
              "<style scoped>\n",
              "    .dataframe tbody tr th:only-of-type {\n",
              "        vertical-align: middle;\n",
              "    }\n",
              "\n",
              "    .dataframe tbody tr th {\n",
              "        vertical-align: top;\n",
              "    }\n",
              "\n",
              "    .dataframe thead th {\n",
              "        text-align: right;\n",
              "    }\n",
              "</style>\n",
              "<table border=\"1\" class=\"dataframe\">\n",
              "  <thead>\n",
              "    <tr style=\"text-align: right;\">\n",
              "      <th></th>\n",
              "      <th>Text</th>\n",
              "      <th>Target</th>\n",
              "    </tr>\n",
              "  </thead>\n",
              "  <tbody>\n",
              "    <tr>\n",
              "      <th>0</th>\n",
              "      <td>reserve bank forming expert committee based in...</td>\n",
              "      <td>Blockchain</td>\n",
              "    </tr>\n",
              "    <tr>\n",
              "      <th>1</th>\n",
              "      <td>director could play role financial system</td>\n",
              "      <td>Blockchain</td>\n",
              "    </tr>\n",
              "    <tr>\n",
              "      <th>2</th>\n",
              "      <td>preliminary discuss secure transaction study r...</td>\n",
              "      <td>Blockchain</td>\n",
              "    </tr>\n",
              "    <tr>\n",
              "      <th>3</th>\n",
              "      <td>security indeed prove essential transforming f...</td>\n",
              "      <td>Blockchain</td>\n",
              "    </tr>\n",
              "    <tr>\n",
              "      <th>4</th>\n",
              "      <td>bank settlement normally take three days based...</td>\n",
              "      <td>Blockchain</td>\n",
              "    </tr>\n",
              "  </tbody>\n",
              "</table>\n",
              "</div>"
            ],
            "text/plain": [
              "                                                Text      Target\n",
              "0  reserve bank forming expert committee based in...  Blockchain\n",
              "1          director could play role financial system  Blockchain\n",
              "2  preliminary discuss secure transaction study r...  Blockchain\n",
              "3  security indeed prove essential transforming f...  Blockchain\n",
              "4  bank settlement normally take three days based...  Blockchain"
            ]
          },
          "metadata": {
            "tags": []
          },
          "execution_count": 4
        }
      ]
    },
    {
      "cell_type": "code",
      "metadata": {
        "colab": {
          "base_uri": "https://localhost:8080/"
        },
        "id": "kTSQIcLtdd24",
        "outputId": "27e7888b-eee6-4edf-88f0-42246ac5e085"
      },
      "source": [
        "x=df.isna().sum()\n",
        "x"
      ],
      "execution_count": 5,
      "outputs": [
        {
          "output_type": "execute_result",
          "data": {
            "text/plain": [
              "Text      3\n",
              "Target    0\n",
              "dtype: int64"
            ]
          },
          "metadata": {
            "tags": []
          },
          "execution_count": 5
        }
      ]
    },
    {
      "cell_type": "code",
      "metadata": {
        "id": "Oqw_0dIMd2Cl"
      },
      "source": [
        "df['Text'].bfill(inplace=True) #removing of null values"
      ],
      "execution_count": 6,
      "outputs": []
    },
    {
      "cell_type": "code",
      "metadata": {
        "id": "98uVt0Ipegph"
      },
      "source": [
        "import re\n",
        "def remove(myString):\n",
        "  myString = re.sub(r\"[\\n\\t]*\", \"\", myString) #removing next line and tabs\n",
        "  myString = re.sub(r'[.,\"\\'-?:!;]', '', myString) #removing punctuation marks\n",
        "  return myString\n",
        "df['Text2']= df['Text'].apply(lambda x: remove(x))"
      ],
      "execution_count": 7,
      "outputs": []
    },
    {
      "cell_type": "code",
      "metadata": {
        "colab": {
          "base_uri": "https://localhost:8080/"
        },
        "id": "h8Ia4IE5ejyA",
        "outputId": "5245e271-c979-4fc4-a121-efd19a95f5af"
      },
      "source": [
        "#removal of all stop words such as I, am, is, are, etc.\n",
        "import string\n",
        "import nltk\n",
        "nltk.download('stopwords') \n",
        "stopwords=nltk.corpus.stopwords.words('english')\n",
        "def clean_text(txt):\n",
        "    txt=\"\".join([c for c in txt if c not in string.punctuation])\n",
        "    tokens=re.split('\\W+',txt)\n",
        "    txt=[word for word in tokens if word not in stopwords]\n",
        "    return txt\n",
        "\n",
        "df['Text2']=df['Text2'].apply(lambda x:clean_text(x))"
      ],
      "execution_count": 8,
      "outputs": [
        {
          "output_type": "stream",
          "text": [
            "[nltk_data] Downloading package stopwords to /root/nltk_data...\n",
            "[nltk_data]   Unzipping corpora/stopwords.zip.\n"
          ],
          "name": "stdout"
        }
      ]
    },
    {
      "cell_type": "code",
      "metadata": {
        "colab": {
          "base_uri": "https://localhost:8080/",
          "height": 53
        },
        "id": "BedJyl5Rfocf",
        "outputId": "f7784655-3e53-4a16-9f13-96002505fe4b"
      },
      "source": [
        "df['Text'][0]"
      ],
      "execution_count": 9,
      "outputs": [
        {
          "output_type": "execute_result",
          "data": {
            "application/vnd.google.colaboratory.intrinsic+json": {
              "type": "string"
            },
            "text/plain": [
              "'reserve bank forming expert committee based institute development research banking technology study approach distributed ledger technology help support shift'"
            ]
          },
          "metadata": {
            "tags": []
          },
          "execution_count": 9
        }
      ]
    },
    {
      "cell_type": "code",
      "metadata": {
        "colab": {
          "base_uri": "https://localhost:8080/"
        },
        "id": "nngzQSRogRtX",
        "outputId": "10ec5ba3-cb56-4c60-a370-e500c265e969"
      },
      "source": [
        "df['Text2'][0]"
      ],
      "execution_count": 10,
      "outputs": [
        {
          "output_type": "execute_result",
          "data": {
            "text/plain": [
              "['reserve',\n",
              " 'bank',\n",
              " 'forming',\n",
              " 'expert',\n",
              " 'committee',\n",
              " 'based',\n",
              " 'institute',\n",
              " 'development',\n",
              " 'research',\n",
              " 'banking',\n",
              " 'technology',\n",
              " 'study',\n",
              " 'approach',\n",
              " 'distributed',\n",
              " 'ledger',\n",
              " 'technology',\n",
              " 'help',\n",
              " 'support',\n",
              " 'shift']"
            ]
          },
          "metadata": {
            "tags": []
          },
          "execution_count": 10
        }
      ]
    },
    {
      "cell_type": "code",
      "metadata": {
        "colab": {
          "base_uri": "https://localhost:8080/"
        },
        "id": "UR7ZMTpUgZvI",
        "outputId": "5c4b22d2-b8ca-43ea-ed6f-ff6e2f7ef0d9"
      },
      "source": [
        "#Lemmatization - converting into root meaningful word\n",
        "nltk.download('wordnet')\n",
        "wn=nltk.WordNetLemmatizer()\n",
        "def lemm(token_txt):\n",
        "    text=[wn.lemmatize(word) for word in token_txt]\n",
        "    return text\n",
        "df['Text2']=df['Text2'].apply(lambda x: lemm(x))"
      ],
      "execution_count": 11,
      "outputs": [
        {
          "output_type": "stream",
          "text": [
            "[nltk_data] Downloading package wordnet to /root/nltk_data...\n",
            "[nltk_data]   Unzipping corpora/wordnet.zip.\n"
          ],
          "name": "stdout"
        }
      ]
    },
    {
      "cell_type": "code",
      "metadata": {
        "id": "ODrTa9oKly7n"
      },
      "source": [
        "#converting words into numbers for classification\n",
        "df['labels']=df['Target'].map({\"FinTech\":0,\"Cyber Security\":1,\"Bigdata\":2,\"Reg Tech\":3,\n",
        "                \"credit reporting\":4,\"Blockchain\":5,\"Neobanks\":6,\"Microservices\":7,\"Stock Trading\":8,\n",
        "                \"Robo Advising\":9,\"Data Security\":10})\n",
        "Y=df['labels'].values"
      ],
      "execution_count": 12,
      "outputs": []
    },
    {
      "cell_type": "code",
      "metadata": {
        "colab": {
          "base_uri": "https://localhost:8080/",
          "height": 202
        },
        "id": "j023KxF-ncFI",
        "outputId": "6890ae2a-72a0-4fd7-ee7c-f10ee96642c2"
      },
      "source": [
        "df.tail()"
      ],
      "execution_count": 13,
      "outputs": [
        {
          "output_type": "execute_result",
          "data": {
            "text/html": [
              "<div>\n",
              "<style scoped>\n",
              "    .dataframe tbody tr th:only-of-type {\n",
              "        vertical-align: middle;\n",
              "    }\n",
              "\n",
              "    .dataframe tbody tr th {\n",
              "        vertical-align: top;\n",
              "    }\n",
              "\n",
              "    .dataframe thead th {\n",
              "        text-align: right;\n",
              "    }\n",
              "</style>\n",
              "<table border=\"1\" class=\"dataframe\">\n",
              "  <thead>\n",
              "    <tr style=\"text-align: right;\">\n",
              "      <th></th>\n",
              "      <th>Text</th>\n",
              "      <th>Target</th>\n",
              "      <th>Text2</th>\n",
              "      <th>labels</th>\n",
              "    </tr>\n",
              "  </thead>\n",
              "  <tbody>\n",
              "    <tr>\n",
              "      <th>22699</th>\n",
              "      <td>fourth study discusses blockchain technology e...</td>\n",
              "      <td>Reg Tech</td>\n",
              "      <td>[fourth, study, discus, blockchain, technology...</td>\n",
              "      <td>3</td>\n",
              "    </tr>\n",
              "    <tr>\n",
              "      <th>22700</th>\n",
              "      <td>book finishes stating biggest issue emerging F...</td>\n",
              "      <td>Reg Tech</td>\n",
              "      <td>[book, finish, stating, biggest, issue, emergi...</td>\n",
              "      <td>3</td>\n",
              "    </tr>\n",
              "    <tr>\n",
              "      <th>22701</th>\n",
              "      <td>people culture cess</td>\n",
              "      <td>Reg Tech</td>\n",
              "      <td>[people, culture, ce]</td>\n",
              "      <td>3</td>\n",
              "    </tr>\n",
              "    <tr>\n",
              "      <th>22702</th>\n",
              "      <td>author challenges execu tive lead change stop ...</td>\n",
              "      <td>Reg Tech</td>\n",
              "      <td>[author, challenge, execu, tive, lead, change,...</td>\n",
              "      <td>3</td>\n",
              "    </tr>\n",
              "    <tr>\n",
              "      <th>22703</th>\n",
              "      <td>change data driven culture come bottom must start</td>\n",
              "      <td>Reg Tech</td>\n",
              "      <td>[change, data, driven, culture, come, bottom, ...</td>\n",
              "      <td>3</td>\n",
              "    </tr>\n",
              "  </tbody>\n",
              "</table>\n",
              "</div>"
            ],
            "text/plain": [
              "                                                    Text  ... labels\n",
              "22699  fourth study discusses blockchain technology e...  ...      3\n",
              "22700  book finishes stating biggest issue emerging F...  ...      3\n",
              "22701                                people culture cess  ...      3\n",
              "22702  author challenges execu tive lead change stop ...  ...      3\n",
              "22703  change data driven culture come bottom must start  ...      3\n",
              "\n",
              "[5 rows x 4 columns]"
            ]
          },
          "metadata": {
            "tags": []
          },
          "execution_count": 13
        }
      ]
    },
    {
      "cell_type": "code",
      "metadata": {
        "id": "LYGRKWH_hCGf"
      },
      "source": [
        "from sklearn.model_selection import train_test_split\n",
        "df_train,df_test,Y_train,Y_test= train_test_split(df['Text2'],Y,test_size=0.33)"
      ],
      "execution_count": 14,
      "outputs": []
    },
    {
      "cell_type": "code",
      "metadata": {
        "colab": {
          "base_uri": "https://localhost:8080/"
        },
        "id": "94fyVRhEjg6p",
        "outputId": "0e4a6b00-2a60-473f-f5a4-99c024c1668b"
      },
      "source": [
        "df['Target'].value_counts()"
      ],
      "execution_count": 15,
      "outputs": [
        {
          "output_type": "execute_result",
          "data": {
            "text/plain": [
              "FinTech             8551\n",
              "Cyber Security      2640\n",
              "Bigdata             2267\n",
              "Reg Tech            2206\n",
              "credit reporting    1748\n",
              "Blockchain          1375\n",
              "Neobanks            1069\n",
              "Microservices        977\n",
              "Stock Trading        787\n",
              "Robo Advising        737\n",
              "Data Security        347\n",
              "Name: Target, dtype: int64"
            ]
          },
          "metadata": {
            "tags": []
          },
          "execution_count": 15
        }
      ]
    },
    {
      "cell_type": "code",
      "metadata": {
        "id": "HgWeKmw9h8Uo"
      },
      "source": [
        "from tensorflow.keras.preprocessing.text import Tokenizer\n",
        "from tensorflow.keras.preprocessing.sequence import pad_sequences\n",
        "from tensorflow.keras.layers import Dense, Input, Dropout, Conv1D, GlobalMaxPooling1D, Embedding, Flatten,LSTM,MaxPooling1D\n",
        "from tensorflow.keras.models import Model,Sequential\n",
        "import time\n",
        "from sklearn.linear_model import LogisticRegression\n",
        "from sklearn import svm\n",
        "from sklearn.metrics import f1_score\n",
        "from sklearn import metrics"
      ],
      "execution_count": 17,
      "outputs": []
    },
    {
      "cell_type": "code",
      "metadata": {
        "id": "ir9rgQKoig82"
      },
      "source": [
        "#Tokenisation of all words\n",
        "Max=20000\n",
        "tokenizer=Tokenizer(num_words=Max)\n",
        "tokenizer.fit_on_texts(df_train)\n",
        "sequences_train=tokenizer.texts_to_sequences(df_train)\n",
        "sequences_test=tokenizer.texts_to_sequences(df_test)"
      ],
      "execution_count": 18,
      "outputs": []
    },
    {
      "cell_type": "code",
      "metadata": {
        "colab": {
          "base_uri": "https://localhost:8080/"
        },
        "id": "NcWnep71inci",
        "outputId": "7dd692b5-b7fc-4238-c703-a8da7998a41b"
      },
      "source": [
        "word2idx=tokenizer.word_index\n",
        "V=len(word2idx)\n",
        "print('Found %s unique tokens'%V)"
      ],
      "execution_count": 19,
      "outputs": [
        {
          "output_type": "stream",
          "text": [
            "Found 9243 unique tokens\n"
          ],
          "name": "stdout"
        }
      ]
    },
    {
      "cell_type": "code",
      "metadata": {
        "id": "Anjk7fhqitNS"
      },
      "source": [
        "#Padding the sequences \n",
        "data_train = pad_sequences(sequences_train)\n",
        "T=data_train.shape[1]\n",
        "data_test = pad_sequences(sequences_test,maxlen=T)"
      ],
      "execution_count": 20,
      "outputs": []
    },
    {
      "cell_type": "code",
      "metadata": {
        "id": "B51R0rUwi1ah"
      },
      "source": [
        "#Using CNN\n",
        "D=100\n",
        "i=Input(shape=(T,))\n",
        "x=Embedding(V+1,D)(i)\n",
        "x=Conv1D(32,3,activation='relu')(x)\n",
        "x=MaxPooling1D(3)(x)\n",
        "x=(Dropout(0.25))(x)\n",
        "x=Conv1D(64,3,activation='relu')(x)\n",
        "x=MaxPooling1D(3)(x)\n",
        "x=(Dropout(0.25))(x)\n",
        "x=Conv1D(128,3,activation='relu')(x)\n",
        "x=MaxPooling1D()(x)\n",
        "x=(Dropout(0.5))(x)\n",
        "x=Flatten()(x)\n",
        "x=Dense(11,activation='softmax')(x)"
      ],
      "execution_count": 21,
      "outputs": []
    },
    {
      "cell_type": "code",
      "metadata": {
        "colab": {
          "base_uri": "https://localhost:8080/"
        },
        "id": "2kn7JhuvuV60",
        "outputId": "3e30d22e-3494-4229-9cbb-4d719be29f53"
      },
      "source": [
        "model=Model(i,x)\n",
        "model.compile(\n",
        "        loss='sparse_categorical_crossentropy',\n",
        "optimizer='adam',\n",
        "metrics=['accuracy'])\n",
        "\n",
        "print(\"Training model....\")\n",
        "r=model.fit(\n",
        "data_train,\n",
        "Y_train,\n",
        "epochs=20,\n",
        "validation_data=(data_test,Y_test))"
      ],
      "execution_count": 22,
      "outputs": [
        {
          "output_type": "stream",
          "text": [
            "Training model....\n",
            "Epoch 1/20\n",
            "476/476 [==============================] - 16s 32ms/step - loss: 2.0197 - accuracy: 0.3800 - val_loss: 1.9962 - val_accuracy: 0.4053\n",
            "Epoch 2/20\n",
            "476/476 [==============================] - 15s 32ms/step - loss: 1.9521 - accuracy: 0.4052 - val_loss: 1.9743 - val_accuracy: 0.4100\n",
            "Epoch 3/20\n",
            "476/476 [==============================] - 15s 31ms/step - loss: 1.9117 - accuracy: 0.4161 - val_loss: 1.9419 - val_accuracy: 0.4135\n",
            "Epoch 4/20\n",
            "476/476 [==============================] - 15s 31ms/step - loss: 1.8624 - accuracy: 0.4271 - val_loss: 1.9187 - val_accuracy: 0.4195\n",
            "Epoch 5/20\n",
            "476/476 [==============================] - 15s 31ms/step - loss: 1.8123 - accuracy: 0.4387 - val_loss: 1.9299 - val_accuracy: 0.4208\n",
            "Epoch 6/20\n",
            "476/476 [==============================] - 15s 31ms/step - loss: 1.7629 - accuracy: 0.4501 - val_loss: 1.9568 - val_accuracy: 0.4215\n",
            "Epoch 7/20\n",
            "476/476 [==============================] - 15s 31ms/step - loss: 1.7213 - accuracy: 0.4661 - val_loss: 1.9715 - val_accuracy: 0.4248\n",
            "Epoch 8/20\n",
            "476/476 [==============================] - 15s 31ms/step - loss: 1.6836 - accuracy: 0.4762 - val_loss: 2.0372 - val_accuracy: 0.4192\n",
            "Epoch 9/20\n",
            "476/476 [==============================] - 15s 31ms/step - loss: 1.6527 - accuracy: 0.4866 - val_loss: 2.0885 - val_accuracy: 0.4237\n",
            "Epoch 10/20\n",
            "476/476 [==============================] - 15s 31ms/step - loss: 1.6343 - accuracy: 0.4920 - val_loss: 2.1140 - val_accuracy: 0.4209\n",
            "Epoch 11/20\n",
            "476/476 [==============================] - 15s 31ms/step - loss: 1.6136 - accuracy: 0.4992 - val_loss: 2.1505 - val_accuracy: 0.4212\n",
            "Epoch 12/20\n",
            "476/476 [==============================] - 15s 31ms/step - loss: 1.5934 - accuracy: 0.5059 - val_loss: 2.1966 - val_accuracy: 0.4211\n",
            "Epoch 13/20\n",
            "476/476 [==============================] - 15s 31ms/step - loss: 1.5794 - accuracy: 0.5088 - val_loss: 2.2319 - val_accuracy: 0.4247\n",
            "Epoch 14/20\n",
            "476/476 [==============================] - 15s 31ms/step - loss: 1.5753 - accuracy: 0.5102 - val_loss: 2.2640 - val_accuracy: 0.4196\n",
            "Epoch 15/20\n",
            "476/476 [==============================] - 15s 31ms/step - loss: 1.5619 - accuracy: 0.5161 - val_loss: 2.3477 - val_accuracy: 0.4201\n",
            "Epoch 16/20\n",
            "476/476 [==============================] - 15s 31ms/step - loss: 1.5501 - accuracy: 0.5199 - val_loss: 2.3907 - val_accuracy: 0.4193\n",
            "Epoch 17/20\n",
            "476/476 [==============================] - 15s 31ms/step - loss: 1.5462 - accuracy: 0.5212 - val_loss: 2.4201 - val_accuracy: 0.4189\n",
            "Epoch 18/20\n",
            "476/476 [==============================] - 15s 31ms/step - loss: 1.5409 - accuracy: 0.5228 - val_loss: 2.4416 - val_accuracy: 0.4215\n",
            "Epoch 19/20\n",
            "476/476 [==============================] - 16s 33ms/step - loss: 1.5308 - accuracy: 0.5263 - val_loss: 2.5078 - val_accuracy: 0.4195\n",
            "Epoch 20/20\n",
            "476/476 [==============================] - 15s 32ms/step - loss: 1.5376 - accuracy: 0.5261 - val_loss: 2.4640 - val_accuracy: 0.4213\n"
          ],
          "name": "stdout"
        }
      ]
    },
    {
      "cell_type": "code",
      "metadata": {
        "colab": {
          "base_uri": "https://localhost:8080/",
          "height": 283
        },
        "id": "BW_1Yzd3vXOL",
        "outputId": "7a9b40d1-4b96-4738-9b2f-0b72563627f6"
      },
      "source": [
        "plt.plot(r.history['loss'],label='loss')\n",
        "plt.plot(r.history['val_loss'],label='val_loss')\n",
        "plt.legend()\n",
        "plt.plot(r.history['accuracy'],label='acc')\n",
        "plt.plot(r.history['val_accuracy'],label='val_acc')\n",
        "plt.legend()"
      ],
      "execution_count": 23,
      "outputs": [
        {
          "output_type": "execute_result",
          "data": {
            "text/plain": [
              "<matplotlib.legend.Legend at 0x7f2408947a90>"
            ]
          },
          "metadata": {
            "tags": []
          },
          "execution_count": 23
        },
        {
          "output_type": "display_data",
          "data": {
            "image/png": "[encoded data removed]",
            "text/plain": [
              "<Figure size 432x288 with 1 Axes>"
            ]
          },
          "metadata": {
            "tags": [],
            "needs_background": "light"
          }
        }
      ]
    },
    {
      "cell_type": "code",
      "metadata": {
        "id": "02ytVBZ2p8Z8",
        "colab": {
          "base_uri": "https://localhost:8080/"
        },
        "outputId": "7fcc5900-e11f-45aa-e4f4-b23353268206"
      },
      "source": [
        "#Using CNN (2)\n",
        "D=100\n",
        "model=Sequential()\n",
        "model.add(Input(shape=(T,)))\n",
        "model.add(Embedding(V+1,D))\n",
        "model.add(Conv1D(16,3,activation='relu'))\n",
        "model.add(MaxPooling1D(3))\n",
        "model.add(Dropout(0.25))\n",
        "\n",
        "model.add(Conv1D(32,3,activation='relu'))\n",
        "model.add(Conv1D(64,3,activation='relu'))\n",
        "model.add(MaxPooling1D(3))\n",
        "model.add(Dropout(0.25))\n",
        "\n",
        "model.add(Conv1D(64,3,activation='relu'))\n",
        "model.add(Conv1D(64,3,activation='relu'))\n",
        "model.add(MaxPooling1D(3))\n",
        "model.add(Dropout(0.25))\n",
        "\n",
        "model.add(Flatten())\n",
        "model.add(Dense(11,activation=\"softmax\"))"
      ],
      "execution_count": 25,
      "outputs": [
        {
          "output_type": "stream",
          "text": [
            "WARNING:tensorflow:Please add `keras.layers.InputLayer` instead of `keras.Input` to Sequential model. `keras.Input` is intended to be used by Functional model.\n"
          ],
          "name": "stdout"
        }
      ]
    },
    {
      "cell_type": "code",
      "metadata": {
        "colab": {
          "base_uri": "https://localhost:8080/"
        },
        "id": "WQ0YbiItvPxB",
        "outputId": "1b3e64d5-071a-4ed3-b9b8-f5718dbe198e"
      },
      "source": [
        "model.compile(\n",
        "        loss='sparse_categorical_crossentropy',\n",
        "optimizer='adam',\n",
        "metrics=['accuracy'])\n",
        "\n",
        "print(\"Training model....\")\n",
        "r=model.fit(\n",
        "data_train,\n",
        "Y_train,\n",
        "epochs=15,\n",
        "validation_data=(data_test,Y_test))"
      ],
      "execution_count": 26,
      "outputs": [
        {
          "output_type": "stream",
          "text": [
            "Training model....\n",
            "Epoch 1/15\n",
            "476/476 [==============================] - 17s 34ms/step - loss: 2.0303 - accuracy: 0.3737 - val_loss: 1.9981 - val_accuracy: 0.3880\n",
            "Epoch 2/15\n",
            "476/476 [==============================] - 15s 32ms/step - loss: 1.9214 - accuracy: 0.3993 - val_loss: 1.8850 - val_accuracy: 0.4209\n",
            "Epoch 3/15\n",
            "476/476 [==============================] - 16s 33ms/step - loss: 1.7819 - accuracy: 0.4326 - val_loss: 1.8255 - val_accuracy: 0.4385\n",
            "Epoch 4/15\n",
            "476/476 [==============================] - 15s 33ms/step - loss: 1.6527 - accuracy: 0.4643 - val_loss: 1.8026 - val_accuracy: 0.4562\n",
            "Epoch 5/15\n",
            "476/476 [==============================] - 16s 34ms/step - loss: 1.5525 - accuracy: 0.4931 - val_loss: 1.8487 - val_accuracy: 0.4456\n",
            "Epoch 6/15\n",
            "476/476 [==============================] - 16s 34ms/step - loss: 1.4562 - accuracy: 0.5204 - val_loss: 1.9011 - val_accuracy: 0.4494\n",
            "Epoch 7/15\n",
            "476/476 [==============================] - 16s 33ms/step - loss: 1.3886 - accuracy: 0.5421 - val_loss: 1.9230 - val_accuracy: 0.4411\n",
            "Epoch 8/15\n",
            "476/476 [==============================] - 15s 32ms/step - loss: 1.3401 - accuracy: 0.5544 - val_loss: 1.9890 - val_accuracy: 0.4416\n",
            "Epoch 9/15\n",
            "476/476 [==============================] - 15s 32ms/step - loss: 1.2904 - accuracy: 0.5703 - val_loss: 2.0326 - val_accuracy: 0.4486\n",
            "Epoch 10/15\n",
            "476/476 [==============================] - 15s 32ms/step - loss: 1.2441 - accuracy: 0.5847 - val_loss: 2.1403 - val_accuracy: 0.4429\n",
            "Epoch 11/15\n",
            "476/476 [==============================] - 15s 32ms/step - loss: 1.2136 - accuracy: 0.5965 - val_loss: 2.1217 - val_accuracy: 0.4244\n",
            "Epoch 12/15\n",
            "476/476 [==============================] - 15s 32ms/step - loss: 1.1840 - accuracy: 0.6028 - val_loss: 2.1604 - val_accuracy: 0.4377\n",
            "Epoch 13/15\n",
            "476/476 [==============================] - 15s 32ms/step - loss: 1.1476 - accuracy: 0.6119 - val_loss: 2.2342 - val_accuracy: 0.4349\n",
            "Epoch 14/15\n",
            "476/476 [==============================] - 16s 33ms/step - loss: 1.1285 - accuracy: 0.6205 - val_loss: 2.3171 - val_accuracy: 0.4185\n",
            "Epoch 15/15\n",
            "476/476 [==============================] - 16s 33ms/step - loss: 1.1134 - accuracy: 0.6235 - val_loss: 2.3729 - val_accuracy: 0.4351\n"
          ],
          "name": "stdout"
        }
      ]
    },
    {
      "cell_type": "code",
      "metadata": {
        "colab": {
          "base_uri": "https://localhost:8080/",
          "height": 283
        },
        "id": "Q90emNH2vlY1",
        "outputId": "cd62e94f-a915-4b25-f78b-68e46a788353"
      },
      "source": [
        "plt.plot(r.history['loss'],label='loss')\n",
        "plt.plot(r.history['val_loss'],label='val_loss')\n",
        "plt.legend()\n",
        "plt.plot(r.history['accuracy'],label='acc')\n",
        "plt.plot(r.history['val_accuracy'],label='val_acc')\n",
        "plt.legend()"
      ],
      "execution_count": 27,
      "outputs": [
        {
          "output_type": "execute_result",
          "data": {
            "text/plain": [
              "<matplotlib.legend.Legend at 0x7f24080a4050>"
            ]
          },
          "metadata": {
            "tags": []
          },
          "execution_count": 27
        },
        {
          "output_type": "display_data",
          "data": {
            "image/png": "[encoded data removed]",
            "text/plain": [
              "<Figure size 432x288 with 1 Axes>"
            ]
          },
          "metadata": {
            "tags": [],
            "needs_background": "light"
          }
        }
      ]
    },
    {
      "cell_type": "code",
      "metadata": {
        "id": "vB1owgYor7hy"
      },
      "source": [
        "#Using LSTM\n",
        "D=100\n",
        "M=64\n",
        "i=Input(shape=(T,))\n",
        "x=Embedding(V+1,D)(i)\n",
        "x=LSTM(M,return_sequences=True,dropout=0.1)(x)\n",
        "x=GlobalMaxPooling1D()(x)\n",
        "x=Dense(11,activation='softmax')(x)\n",
        "model=Model(i,x)"
      ],
      "execution_count": 28,
      "outputs": []
    },
    {
      "cell_type": "code",
      "metadata": {
        "colab": {
          "base_uri": "https://localhost:8080/"
        },
        "id": "Uqhi37iyk9N3",
        "outputId": "1a4bb506-9b86-4da0-ddab-eeab3000e54a"
      },
      "source": [
        "model=Model(i,x)\n",
        "model.compile(\n",
        "        loss='sparse_categorical_crossentropy',\n",
        "optimizer='adam',\n",
        "metrics=['accuracy'])\n",
        "\n",
        "print(\"Training model....\")\n",
        "r=model.fit(\n",
        "data_train,\n",
        "Y_train,\n",
        "epochs=15,\n",
        "validation_data=(data_test,Y_test))"
      ],
      "execution_count": 29,
      "outputs": [
        {
          "output_type": "stream",
          "text": [
            "Training model....\n",
            "Epoch 1/15\n",
            "476/476 [==============================] - 47s 95ms/step - loss: 1.8641 - accuracy: 0.4237 - val_loss: 1.5534 - val_accuracy: 0.5409\n",
            "Epoch 2/15\n",
            "476/476 [==============================] - 47s 99ms/step - loss: 1.2841 - accuracy: 0.6176 - val_loss: 1.2721 - val_accuracy: 0.6223\n",
            "Epoch 3/15\n",
            "476/476 [==============================] - 47s 99ms/step - loss: 0.9105 - accuracy: 0.7246 - val_loss: 1.1747 - val_accuracy: 0.6394\n",
            "Epoch 4/15\n",
            "476/476 [==============================] - 48s 101ms/step - loss: 0.6881 - accuracy: 0.7911 - val_loss: 1.1959 - val_accuracy: 0.6391\n",
            "Epoch 5/15\n",
            "476/476 [==============================] - 50s 104ms/step - loss: 0.5513 - accuracy: 0.8326 - val_loss: 1.2381 - val_accuracy: 0.6329\n",
            "Epoch 6/15\n",
            "476/476 [==============================] - 51s 107ms/step - loss: 0.4563 - accuracy: 0.8583 - val_loss: 1.3183 - val_accuracy: 0.6283\n",
            "Epoch 7/15\n",
            "476/476 [==============================] - 51s 108ms/step - loss: 0.3853 - accuracy: 0.8803 - val_loss: 1.3731 - val_accuracy: 0.6294\n",
            "Epoch 8/15\n",
            "476/476 [==============================] - 52s 109ms/step - loss: 0.3267 - accuracy: 0.9003 - val_loss: 1.4594 - val_accuracy: 0.6228\n",
            "Epoch 9/15\n",
            "476/476 [==============================] - 49s 103ms/step - loss: 0.2864 - accuracy: 0.9114 - val_loss: 1.5263 - val_accuracy: 0.6010\n",
            "Epoch 10/15\n",
            "476/476 [==============================] - 48s 100ms/step - loss: 0.2533 - accuracy: 0.9214 - val_loss: 1.5774 - val_accuracy: 0.6244\n",
            "Epoch 11/15\n",
            "476/476 [==============================] - 45s 95ms/step - loss: 0.2170 - accuracy: 0.9330 - val_loss: 1.6579 - val_accuracy: 0.6075\n",
            "Epoch 12/15\n",
            "476/476 [==============================] - 47s 99ms/step - loss: 0.1937 - accuracy: 0.9406 - val_loss: 1.7498 - val_accuracy: 0.6028\n",
            "Epoch 13/15\n",
            "476/476 [==============================] - 46s 96ms/step - loss: 0.1717 - accuracy: 0.9482 - val_loss: 1.8300 - val_accuracy: 0.6132\n",
            "Epoch 14/15\n",
            "476/476 [==============================] - 45s 95ms/step - loss: 0.1538 - accuracy: 0.9518 - val_loss: 1.8835 - val_accuracy: 0.6098\n",
            "Epoch 15/15\n",
            "476/476 [==============================] - 44s 93ms/step - loss: 0.1376 - accuracy: 0.9579 - val_loss: 1.9664 - val_accuracy: 0.6014\n"
          ],
          "name": "stdout"
        }
      ]
    },
    {
      "cell_type": "code",
      "metadata": {
        "id": "-CyCwCFo_Obz",
        "colab": {
          "base_uri": "https://localhost:8080/",
          "height": 283
        },
        "outputId": "512c9921-035e-491c-cdb9-c87766c49826"
      },
      "source": [
        "plt.plot(r.history['loss'],label='loss')\n",
        "plt.plot(r.history['val_loss'],label='val_loss')\n",
        "plt.legend()\n",
        "plt.plot(r.history['accuracy'],label='acc')\n",
        "plt.plot(r.history['val_accuracy'],label='val_acc')\n",
        "plt.legend()"
      ],
      "execution_count": 30,
      "outputs": [
        {
          "output_type": "execute_result",
          "data": {
            "text/plain": [
              "<matplotlib.legend.Legend at 0x7f2405dda2d0>"
            ]
          },
          "metadata": {
            "tags": []
          },
          "execution_count": 30
        },
        {
          "output_type": "display_data",
          "data": {
            "image/png": "[encoded data removed]",
            "text/plain": [
              "<Figure size 432x288 with 1 Axes>"
            ]
          },
          "metadata": {
            "tags": [],
            "needs_background": "light"
          }
        }
      ]
    },
    {
      "cell_type": "code",
      "metadata": {
        "id": "9xzmpx89opPY"
      },
      "source": [
        "#Using SVM\n",
        "model = svm.SVC(C = 11)\n",
        "t0 = time.time()\n",
        "model.fit(data_train, Y_train)\n",
        "t1 = time.time()\n",
        "svc_Ypred = model.predict(data_test)\n",
        "t2 = time.time()\n",
        "svc_time_linear_train = t1-t0\n",
        "svc_time_linear_predict = t2-t1\n",
        "svc_f1Score = f1_score(Y_test, svc_Ypred, average = \"weighted\")"
      ],
      "execution_count": 31,
      "outputs": []
    },
    {
      "cell_type": "code",
      "metadata": {
        "colab": {
          "base_uri": "https://localhost:8080/"
        },
        "id": "vB66oKYXtMKP",
        "outputId": "3654502a-5095-419c-fe7b-0b3705664056"
      },
      "source": [
        "print(\"Training time: %fs; Prediction time: %fs\" % (svc_time_linear_train, svc_time_linear_predict))"
      ],
      "execution_count": 32,
      "outputs": [
        {
          "output_type": "stream",
          "text": [
            "Training time: 109.811443s; Prediction time: 23.163067s\n"
          ],
          "name": "stdout"
        }
      ]
    },
    {
      "cell_type": "code",
      "metadata": {
        "colab": {
          "base_uri": "https://localhost:8080/"
        },
        "id": "f6xVJfsMuHPB",
        "outputId": "8c20e3fb-a741-4b91-80a9-0d3699c3bb2a"
      },
      "source": [
        "svc_f1Score"
      ],
      "execution_count": 33,
      "outputs": [
        {
          "output_type": "execute_result",
          "data": {
            "text/plain": [
              "0.2634746403005783"
            ]
          },
          "metadata": {
            "tags": []
          },
          "execution_count": 33
        }
      ]
    }
  ]
}